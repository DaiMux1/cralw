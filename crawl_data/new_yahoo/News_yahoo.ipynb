{
 "cells": [
  {
   "cell_type": "code",
   "execution_count": 3,
   "id": "available-silver",
   "metadata": {},
   "outputs": [],
   "source": [
    "import requests\n",
    "from bs4 import BeautifulSoup\n",
    "import os\n",
    "from urllib.parse import urlunsplit, urlencode\n",
    "MAX_P = 1000\n",
    "\n",
    "out_dir = 'newsYahoo'\n",
    "os.makedirs(out_dir, exist_ok=True)"
   ]
  },
  {
   "cell_type": "code",
   "execution_count": 5,
   "id": "painted-diving",
   "metadata": {},
   "outputs": [],
   "source": [
    "MAINPAGE_URL = 'mainpage_url.txt'"
   ]
  },
  {
   "cell_type": "code",
   "execution_count": 6,
   "id": "improved-undergraduate",
   "metadata": {},
   "outputs": [],
   "source": [
    "base_url = 'https://news.yahoo.co.jp/topics/top-picks'\n",
    "agent = {\"User-Agent\":'Mozilla/5.0 (Windows NT 6.3; WOW64) AppleWebKit/537.36 (KHTML, like Gecko) Chrome/59.0.3071.115 Safari/537.36'}\n",
    "req = requests.get(base_url, headers=agent) \n",
    "soup = BeautifulSoup(req.text, 'html.parser')\n",
    "\n"
   ]
  },
  {
   "cell_type": "code",
   "execution_count": 6,
   "id": "korean-empire",
   "metadata": {},
   "outputs": [],
   "source": [
    "nav = soup.find('ul', attrs={'class': 'sc-kkwfeq bYUTVL'})\n",
    "topics = nav.find_all('li')\n",
    "for topic in topics:\n",
    "    url_e = topic.find('a', href=True)\n",
    "    if url_e is not None:\n",
    "        url = base + url_e['href']\n",
    "        with open(os.path.join(out_dir, MAINPAGE_URL), 'a+') as f:\n",
    "            f.write(url + '\\n')"
   ]
  },
  {
   "cell_type": "markdown",
   "id": "armed-contractor",
   "metadata": {},
   "source": [
    "# get all pages of each topic"
   ]
  },
  {
   "cell_type": "code",
   "execution_count": 7,
   "id": "noble-disco",
   "metadata": {},
   "outputs": [],
   "source": [
    "def encode_page(url, p):\n",
    "    param = urlencode({'page': p})\n",
    "    return urlunsplit((\"\", \"\", url, param, \"\"))"
   ]
  },
  {
   "cell_type": "code",
   "execution_count": 40,
   "id": "agreed-error",
   "metadata": {},
   "outputs": [],
   "source": [
    "def get_page_url(base_url, p):\n",
    "#     print(base_url + \"123\")\n",
    "    url = encode_page(base_url, p)\n",
    "#     print(url)\n",
    "    \n",
    "    req = requests.get(url, headers=agent)\n",
    "    soup = BeautifulSoup(req.text, 'html.parser')\n",
    "    atc_urls = []\n",
    "    \n",
    "    \n",
    "    try:\n",
    "        ul = soup.find('ul', attrs={'class': 'newsFeed_list'})\n",
    "\n",
    "#         if ul is not None:\n",
    "\n",
    "        links = ul.find_all('li', attrs={'class': 'newsFeed_item'})\n",
    "\n",
    "    #     print(len(links))\n",
    "        for link in links:\n",
    "            atc_url = link.find('a', href=True)\n",
    "            if atc_url is not None:\n",
    "                atc_url = atc_url['href']\n",
    "                atc_urls.append(atc_url)\n",
    "    except:\n",
    "        print(url)\n",
    "    \n",
    "        \n",
    "    return atc_urls\n",
    "    \n",
    "    \n",
    "#     print(links)\n",
    "    \n",
    "    "
   ]
  },
  {
   "cell_type": "code",
   "execution_count": 41,
   "id": "short-small",
   "metadata": {},
   "outputs": [
    {
     "name": "stderr",
     "output_type": "stream",
     "text": [
      "  2%|█▌                                                                              | 20/1000 [00:16<13:35,  1.20it/s]\n",
      "  0%|                                                                                         | 0/1000 [00:00<?, ?it/s]"
     ]
    },
    {
     "name": "stdout",
     "output_type": "stream",
     "text": [
      "https://news.yahoo.co.jp/topics/top-picks?page=21\n",
      "20 0\n"
     ]
    },
    {
     "name": "stderr",
     "output_type": "stream",
     "text": [
      "  0%|▎                                                                                | 4/1000 [00:03<14:56,  1.11it/s]\n",
      "  0%|                                                                                         | 0/1000 [00:00<?, ?it/s]"
     ]
    },
    {
     "name": "stdout",
     "output_type": "stream",
     "text": [
      "https://news.yahoo.co.jp/topics/domestic?page=5\n",
      "4 0\n"
     ]
    },
    {
     "name": "stderr",
     "output_type": "stream",
     "text": [
      "  0%|▏                                                                                | 3/1000 [00:02<14:12,  1.17it/s]\n",
      "  0%|                                                                                         | 0/1000 [00:00<?, ?it/s]"
     ]
    },
    {
     "name": "stdout",
     "output_type": "stream",
     "text": [
      "https://news.yahoo.co.jp/topics/world?page=4\n",
      "3 0\n"
     ]
    },
    {
     "name": "stderr",
     "output_type": "stream",
     "text": [
      "  0%|▏                                                                                | 3/1000 [00:02<14:57,  1.11it/s]\n",
      "  0%|                                                                                         | 0/1000 [00:00<?, ?it/s]"
     ]
    },
    {
     "name": "stdout",
     "output_type": "stream",
     "text": [
      "https://news.yahoo.co.jp/topics/business?page=4\n",
      "3 0\n"
     ]
    },
    {
     "name": "stderr",
     "output_type": "stream",
     "text": [
      "  0%|▏                                                                                | 3/1000 [00:02<16:07,  1.03it/s]\n",
      "  0%|                                                                                         | 0/1000 [00:00<?, ?it/s]"
     ]
    },
    {
     "name": "stdout",
     "output_type": "stream",
     "text": [
      "https://news.yahoo.co.jp/topics/entertainment?page=4\n",
      "3 0\n"
     ]
    },
    {
     "name": "stderr",
     "output_type": "stream",
     "text": [
      "  0%|▏                                                                                | 3/1000 [00:02<15:34,  1.07it/s]\n",
      "  0%|                                                                                         | 0/1000 [00:00<?, ?it/s]"
     ]
    },
    {
     "name": "stdout",
     "output_type": "stream",
     "text": [
      "https://news.yahoo.co.jp/topics/sports?page=4\n",
      "3 0\n"
     ]
    },
    {
     "name": "stderr",
     "output_type": "stream",
     "text": [
      "  0%|                                                                                 | 1/1000 [00:01<18:08,  1.09s/it]\n",
      "  0%|                                                                                         | 0/1000 [00:00<?, ?it/s]"
     ]
    },
    {
     "name": "stdout",
     "output_type": "stream",
     "text": [
      "https://news.yahoo.co.jp/topics/it?page=2\n",
      "1 0\n"
     ]
    },
    {
     "name": "stderr",
     "output_type": "stream",
     "text": [
      "  0%|                                                                                 | 1/1000 [00:01<19:46,  1.19s/it]\n",
      "  0%|                                                                                         | 0/1000 [00:00<?, ?it/s]"
     ]
    },
    {
     "name": "stdout",
     "output_type": "stream",
     "text": [
      "https://news.yahoo.co.jp/topics/science?page=2\n",
      "1 0\n"
     ]
    },
    {
     "name": "stderr",
     "output_type": "stream",
     "text": [
      "  0%|▍                                                                                | 5/1000 [00:04<15:00,  1.10it/s]"
     ]
    },
    {
     "name": "stdout",
     "output_type": "stream",
     "text": [
      "https://news.yahoo.co.jp/topics/local?page=6\n",
      "5 0\n"
     ]
    },
    {
     "name": "stderr",
     "output_type": "stream",
     "text": [
      "\n"
     ]
    }
   ],
   "source": [
    "from tqdm import tqdm\n",
    "with open(os.path.join(out_dir, MAINPAGE_URL), 'r') as f:\n",
    "    base_urls = f.read().splitlines()\n",
    "    \n",
    "for base_url in base_urls:\n",
    "    paths = []\n",
    "    topic_name = base_url.split('/')[-1]\n",
    "    \n",
    "    out_topic_dir = os.path.join(out_dir, topic_name)\n",
    "    os.makedirs(out_topic_dir, exist_ok=True)\n",
    "    for p in tqdm(range(MAX_P)):\n",
    "        urls = get_page_url(base_url, p+1)\n",
    "#         print(urls)\n",
    "#         input()\n",
    "        if len(urls) == 0 or urls[-1] in paths:\n",
    "            print(p, len(urls))\n",
    "            break \n",
    "        paths.extend(urls)\n",
    "        with open(os.path.join(out_topic_dir, '{}.txt'.format(topic_name)), 'a+') as f:\n",
    "            for url in urls:\n",
    "                f.write(url + '\\n')\n",
    "    \n",
    "    "
   ]
  },
  {
   "cell_type": "code",
   "execution_count": 21,
   "id": "excessive-darkness",
   "metadata": {},
   "outputs": [
    {
     "name": "stdout",
     "output_type": "stream",
     "text": [
      "[]\n"
     ]
    }
   ],
   "source": [
    "has_child_paths = os.listdir(out_dir)\n",
    "has_child_paths = [path for path in has_child_paths if path.endswith('txt') and path != MAINPAGE_URL]\n",
    "print(has_child_paths)"
   ]
  },
  {
   "cell_type": "code",
   "execution_count": 22,
   "id": "designed-shepherd",
   "metadata": {},
   "outputs": [],
   "source": [
    "def get_text(base_url, p):\n",
    "    url = encode_page(base_url, p)\n",
    "    text = ''\n",
    "    req = requests.get(url, headers=agent)\n",
    "    soup = BeautifulSoup(req.text, 'html.parser')\n",
    "    links = soup.find_all('p', attrs={'class': 'sc-fcdeBU gaNGyi yjSlinkDirectlink'}) \n",
    "    if links is None:\n",
    "        return text\n",
    "    for link in links:\n",
    "        text += link.text.strip()\n",
    "        \n",
    "    links1 = soup.find_all('p', attrs={'class': 'sc-kZmsYB cBtiXl yjSlinkDirectlink'})  \n",
    "    if links1 is None:\n",
    "        return text\n",
    "    for link in links1:\n",
    "        text += link.text.strip()\n",
    "    return text\n",
    "    "
   ]
  },
  {
   "cell_type": "code",
   "execution_count": 25,
   "id": "upset-newfoundland",
   "metadata": {},
   "outputs": [],
   "source": [
    "def read_more(url):\n",
    "    req = requests.get(url, headers=agent)\n",
    "    soup = BeautifulSoup(req.text, 'html.parser')\n",
    "#     print(soup)\n",
    "    try:\n",
    "        \n",
    "        \n",
    "        url1 = soup.find('p', attrs={'class': 'sc-bchHHi hDdzOI'}) \n",
    "        print(url1)\n",
    "        if url1 is not None:\n",
    "            url1 = url1.find('a')['href']\n",
    "            return url1\n",
    "        \n",
    "        url1 = soup.find('p', attrs={'class': 'sc-kVyEtE fjDzrU'}) \n",
    "        print(url1)\n",
    "        if url1 is not None:\n",
    "            url1 = url1.find('a')['href']\n",
    "            return url1\n",
    "        \n",
    "        \n",
    "    except:\n",
    "        print('no read more: '+url)\n",
    "    return url"
   ]
  },
  {
   "cell_type": "code",
   "execution_count": 26,
   "id": "demanding-slide",
   "metadata": {},
   "outputs": [
    {
     "name": "stdout",
     "output_type": "stream",
     "text": [
      "None\n",
      "<p class=\"sc-kVyEtE fjDzrU\"><a class=\"sc-lewbHj ewGAmQ\" data-ual-gotocontent=\"true\" data-ylk=\"rsec:tpc_main;slk:headline;pos:2;\" href=\"https://news.yahoo.co.jp/articles/8ad34a461a41263067760100e8e0129d80c96398\">続きを読む</a></p>\n"
     ]
    },
    {
     "data": {
      "text/plain": [
       "'https://news.yahoo.co.jp/articles/8ad34a461a41263067760100e8e0129d80c96398'"
      ]
     },
     "execution_count": 26,
     "metadata": {},
     "output_type": "execute_result"
    }
   ],
   "source": [
    "read_more('https://news.yahoo.co.jp/pickup/6393086')"
   ]
  },
  {
   "cell_type": "code",
   "execution_count": 25,
   "id": "manufactured-pursuit",
   "metadata": {},
   "outputs": [],
   "source": [
    "def get_documents(url):\n",
    "    document = {\n",
    "        'topic': '',\n",
    "        'time': '',\n",
    "        'vender': '',\n",
    "        'header': '',\n",
    "        'body': '', \n",
    "        'url': ''\n",
    "    }\n",
    "    url = read_more(url)\n",
    "#     print(url)\n",
    "    req = requests.get(url, headers=agent)\n",
    "    soup = BeautifulSoup(req.text, 'html.parser')\n",
    "    \n",
    "    document['url'] = url\n",
    "    #get topic\n",
    "    try:\n",
    "        document['topic'] = soup.find('li', attrs={'class': 'sc-ksYbfQ gzRlqt'}).find('a').text.strip()\n",
    "    except:\n",
    "        print('top: '+url)\n",
    "        \n",
    "    #get time\n",
    "    try:\n",
    "        document['time'] = soup.find('p', attrs={'class': 'sc-hBbWxd jAryWI'}).text.strip()\n",
    "    except:\n",
    "        print(\"time: \"+url)\n",
    "        \n",
    "#     get header\n",
    "    try:\n",
    "        document['header'] = soup.find('h1', attrs={'class': 'sc-kcDeIU fSdkhd'}).text.strip()\n",
    "    except:\n",
    "        print(\"header: \"+url)\n",
    "        \n",
    "#     get text\n",
    "\n",
    "    try:\n",
    "        text = ''\n",
    "        for p in range(10):\n",
    "            text1 = ''\n",
    "            text1 = get_text(url, p+1)\n",
    "            if len(text1) == 0:\n",
    "                break\n",
    "            text += text1\n",
    "            \n",
    "        \n",
    "        document['body'] = text \n",
    "    except:\n",
    "        print('text: '+url)\n",
    "    \n",
    "    return document"
   ]
  },
  {
   "cell_type": "code",
   "execution_count": 26,
   "id": "perceived-davis",
   "metadata": {},
   "outputs": [
    {
     "name": "stdout",
     "output_type": "stream",
     "text": [
      "['business', 'domestic', 'entertainment', 'it', 'local', 'science', 'sports', 'top-picks', 'world']\n"
     ]
    }
   ],
   "source": [
    "dirnames = os.listdir(out_dir)\n",
    "dirnames = [name for name in dirnames if os.path.isdir(os.path.join(out_dir, name)) and 'ipynb' not in name]\n",
    "\n",
    "print(dirnames)"
   ]
  },
  {
   "cell_type": "code",
   "execution_count": 27,
   "id": "manufactured-apparatus",
   "metadata": {},
   "outputs": [],
   "source": [
    "data_dir = 'data/news_yahoo'\n",
    "os.makedirs(data_dir, exist_ok=True)"
   ]
  },
  {
   "cell_type": "code",
   "execution_count": 28,
   "id": "extreme-april",
   "metadata": {},
   "outputs": [
    {
     "name": "stderr",
     "output_type": "stream",
     "text": [
      "\r",
      "  0%|                                                                                           | 0/65 [00:00<?, ?it/s]"
     ]
    },
    {
     "name": "stdout",
     "output_type": "stream",
     "text": [
      "===========\n",
      "business\n",
      "['business.txt']\n",
      "no read more: https://news.yahoo.co.jp/pickup/6393096\n"
     ]
    },
    {
     "name": "stderr",
     "output_type": "stream",
     "text": [
      "\r",
      "  2%|█▎                                                                                 | 1/65 [00:01<01:35,  1.49s/it]"
     ]
    },
    {
     "name": "stdout",
     "output_type": "stream",
     "text": [
      "time: https://news.yahoo.co.jp/pickup/6393096\n",
      "header: https://news.yahoo.co.jp/pickup/6393096\n",
      "text: https://news.yahoo.co.jp/pickup/6393096\n",
      "no read more: https://news.yahoo.co.jp/pickup/6393086\n"
     ]
    },
    {
     "name": "stderr",
     "output_type": "stream",
     "text": [
      "\r",
      "  3%|██▌                                                                                | 2/65 [00:02<01:34,  1.50s/it]"
     ]
    },
    {
     "name": "stdout",
     "output_type": "stream",
     "text": [
      "time: https://news.yahoo.co.jp/pickup/6393086\n",
      "header: https://news.yahoo.co.jp/pickup/6393086\n",
      "text: https://news.yahoo.co.jp/pickup/6393086\n",
      "no read more: https://news.yahoo.co.jp/pickup/6393079\n"
     ]
    },
    {
     "name": "stderr",
     "output_type": "stream",
     "text": [
      "\r",
      "  5%|███▊                                                                               | 3/65 [00:04<01:37,  1.57s/it]"
     ]
    },
    {
     "name": "stdout",
     "output_type": "stream",
     "text": [
      "time: https://news.yahoo.co.jp/pickup/6393079\n",
      "header: https://news.yahoo.co.jp/pickup/6393079\n",
      "text: https://news.yahoo.co.jp/pickup/6393079\n",
      "no read more: https://news.yahoo.co.jp/pickup/6393080\n"
     ]
    },
    {
     "name": "stderr",
     "output_type": "stream",
     "text": [
      "\r",
      "  6%|█████                                                                              | 4/65 [00:06<01:34,  1.55s/it]"
     ]
    },
    {
     "name": "stdout",
     "output_type": "stream",
     "text": [
      "time: https://news.yahoo.co.jp/pickup/6393080\n",
      "header: https://news.yahoo.co.jp/pickup/6393080\n",
      "text: https://news.yahoo.co.jp/pickup/6393080\n",
      "no read more: https://news.yahoo.co.jp/pickup/6393077\n"
     ]
    },
    {
     "name": "stderr",
     "output_type": "stream",
     "text": [
      "\r",
      "  8%|██████▍                                                                            | 5/65 [00:07<01:35,  1.59s/it]"
     ]
    },
    {
     "name": "stdout",
     "output_type": "stream",
     "text": [
      "time: https://news.yahoo.co.jp/pickup/6393077\n",
      "header: https://news.yahoo.co.jp/pickup/6393077\n",
      "text: https://news.yahoo.co.jp/pickup/6393077\n",
      "no read more: https://news.yahoo.co.jp/pickup/6393055\n"
     ]
    },
    {
     "name": "stderr",
     "output_type": "stream",
     "text": [
      "\r",
      "  8%|██████▍                                                                            | 5/65 [00:09<01:56,  1.93s/it]"
     ]
    },
    {
     "name": "stdout",
     "output_type": "stream",
     "text": [
      "time: https://news.yahoo.co.jp/pickup/6393055"
     ]
    },
    {
     "name": "stderr",
     "output_type": "stream",
     "text": [
      "\n"
     ]
    },
    {
     "ename": "KeyboardInterrupt",
     "evalue": "",
     "output_type": "error",
     "traceback": [
      "\u001b[1;31m---------------------------------------------------------------------------\u001b[0m",
      "\u001b[1;31mAttributeError\u001b[0m                            Traceback (most recent call last)",
      "\u001b[1;32m<ipython-input-25-eca81177b824>\u001b[0m in \u001b[0;36mget_documents\u001b[1;34m(url)\u001b[0m\n\u001b[0;32m     23\u001b[0m     \u001b[1;32mtry\u001b[0m\u001b[1;33m:\u001b[0m\u001b[1;33m\u001b[0m\u001b[1;33m\u001b[0m\u001b[0m\n\u001b[1;32m---> 24\u001b[1;33m         \u001b[0mdocument\u001b[0m\u001b[1;33m[\u001b[0m\u001b[1;34m'time'\u001b[0m\u001b[1;33m]\u001b[0m \u001b[1;33m=\u001b[0m \u001b[0msoup\u001b[0m\u001b[1;33m.\u001b[0m\u001b[0mfind\u001b[0m\u001b[1;33m(\u001b[0m\u001b[1;34m'p'\u001b[0m\u001b[1;33m,\u001b[0m \u001b[0mattrs\u001b[0m\u001b[1;33m=\u001b[0m\u001b[1;33m{\u001b[0m\u001b[1;34m'class'\u001b[0m\u001b[1;33m:\u001b[0m \u001b[1;34m'sc-hBbWxd jAryWI'\u001b[0m\u001b[1;33m}\u001b[0m\u001b[1;33m)\u001b[0m\u001b[1;33m.\u001b[0m\u001b[0mtext\u001b[0m\u001b[1;33m.\u001b[0m\u001b[0mstrip\u001b[0m\u001b[1;33m(\u001b[0m\u001b[1;33m)\u001b[0m\u001b[1;33m\u001b[0m\u001b[1;33m\u001b[0m\u001b[0m\n\u001b[0m\u001b[0;32m     25\u001b[0m     \u001b[1;32mexcept\u001b[0m\u001b[1;33m:\u001b[0m\u001b[1;33m\u001b[0m\u001b[1;33m\u001b[0m\u001b[0m\n",
      "\u001b[1;31mAttributeError\u001b[0m: 'NoneType' object has no attribute 'text'",
      "\nDuring handling of the above exception, another exception occurred:\n",
      "\u001b[1;31mKeyboardInterrupt\u001b[0m                         Traceback (most recent call last)",
      "\u001b[1;32m<ipython-input-28-62d6ecd1b35c>\u001b[0m in \u001b[0;36m<module>\u001b[1;34m\u001b[0m\n\u001b[0;32m     22\u001b[0m         \u001b[1;32mfor\u001b[0m \u001b[0ma_url\u001b[0m \u001b[1;32min\u001b[0m \u001b[0mtqdm\u001b[0m\u001b[1;33m(\u001b[0m\u001b[0marticle_urls\u001b[0m\u001b[1;33m)\u001b[0m\u001b[1;33m:\u001b[0m\u001b[1;33m\u001b[0m\u001b[1;33m\u001b[0m\u001b[0m\n\u001b[0;32m     23\u001b[0m \u001b[1;33m\u001b[0m\u001b[0m\n\u001b[1;32m---> 24\u001b[1;33m             \u001b[0mdocument\u001b[0m \u001b[1;33m=\u001b[0m \u001b[0mget_documents\u001b[0m\u001b[1;33m(\u001b[0m\u001b[0ma_url\u001b[0m\u001b[1;33m)\u001b[0m\u001b[1;33m\u001b[0m\u001b[1;33m\u001b[0m\u001b[0m\n\u001b[0m\u001b[0;32m     25\u001b[0m             \u001b[0mdata\u001b[0m \u001b[1;33m=\u001b[0m \u001b[0mdata\u001b[0m\u001b[1;33m.\u001b[0m\u001b[0mappend\u001b[0m\u001b[1;33m(\u001b[0m\u001b[0mdocument\u001b[0m\u001b[1;33m,\u001b[0m \u001b[0mignore_index\u001b[0m\u001b[1;33m=\u001b[0m\u001b[1;32mTrue\u001b[0m\u001b[1;33m)\u001b[0m\u001b[1;33m\u001b[0m\u001b[1;33m\u001b[0m\u001b[0m\n\u001b[0;32m     26\u001b[0m     \u001b[0mdata\u001b[0m\u001b[1;33m.\u001b[0m\u001b[0mto_csv\u001b[0m\u001b[1;33m(\u001b[0m\u001b[0mos\u001b[0m\u001b[1;33m.\u001b[0m\u001b[0mpath\u001b[0m\u001b[1;33m.\u001b[0m\u001b[0mjoin\u001b[0m\u001b[1;33m(\u001b[0m\u001b[0mdata_dir\u001b[0m\u001b[1;33m,\u001b[0m \u001b[0mname\u001b[0m \u001b[1;33m+\u001b[0m \u001b[1;34m'.csv'\u001b[0m\u001b[1;33m)\u001b[0m\u001b[1;33m)\u001b[0m\u001b[1;33m\u001b[0m\u001b[1;33m\u001b[0m\u001b[0m\n",
      "\u001b[1;32m<ipython-input-25-eca81177b824>\u001b[0m in \u001b[0;36mget_documents\u001b[1;34m(url)\u001b[0m\n\u001b[0;32m     24\u001b[0m         \u001b[0mdocument\u001b[0m\u001b[1;33m[\u001b[0m\u001b[1;34m'time'\u001b[0m\u001b[1;33m]\u001b[0m \u001b[1;33m=\u001b[0m \u001b[0msoup\u001b[0m\u001b[1;33m.\u001b[0m\u001b[0mfind\u001b[0m\u001b[1;33m(\u001b[0m\u001b[1;34m'p'\u001b[0m\u001b[1;33m,\u001b[0m \u001b[0mattrs\u001b[0m\u001b[1;33m=\u001b[0m\u001b[1;33m{\u001b[0m\u001b[1;34m'class'\u001b[0m\u001b[1;33m:\u001b[0m \u001b[1;34m'sc-hBbWxd jAryWI'\u001b[0m\u001b[1;33m}\u001b[0m\u001b[1;33m)\u001b[0m\u001b[1;33m.\u001b[0m\u001b[0mtext\u001b[0m\u001b[1;33m.\u001b[0m\u001b[0mstrip\u001b[0m\u001b[1;33m(\u001b[0m\u001b[1;33m)\u001b[0m\u001b[1;33m\u001b[0m\u001b[1;33m\u001b[0m\u001b[0m\n\u001b[0;32m     25\u001b[0m     \u001b[1;32mexcept\u001b[0m\u001b[1;33m:\u001b[0m\u001b[1;33m\u001b[0m\u001b[1;33m\u001b[0m\u001b[0m\n\u001b[1;32m---> 26\u001b[1;33m         \u001b[0mprint\u001b[0m\u001b[1;33m(\u001b[0m\u001b[1;34m\"time: \"\u001b[0m\u001b[1;33m+\u001b[0m\u001b[0murl\u001b[0m\u001b[1;33m)\u001b[0m\u001b[1;33m\u001b[0m\u001b[1;33m\u001b[0m\u001b[0m\n\u001b[0m\u001b[0;32m     27\u001b[0m \u001b[1;33m\u001b[0m\u001b[0m\n\u001b[0;32m     28\u001b[0m \u001b[1;31m#     get header\u001b[0m\u001b[1;33m\u001b[0m\u001b[1;33m\u001b[0m\u001b[1;33m\u001b[0m\u001b[0m\n",
      "\u001b[1;32mc:\\users\\admin\\appdata\\local\\programs\\python\\python39\\lib\\site-packages\\ipykernel\\iostream.py\u001b[0m in \u001b[0;36mwrite\u001b[1;34m(self, string)\u001b[0m\n\u001b[0;32m    400\u001b[0m             \u001b[0mis_child\u001b[0m \u001b[1;33m=\u001b[0m \u001b[1;33m(\u001b[0m\u001b[1;32mnot\u001b[0m \u001b[0mself\u001b[0m\u001b[1;33m.\u001b[0m\u001b[0m_is_master_process\u001b[0m\u001b[1;33m(\u001b[0m\u001b[1;33m)\u001b[0m\u001b[1;33m)\u001b[0m\u001b[1;33m\u001b[0m\u001b[1;33m\u001b[0m\u001b[0m\n\u001b[0;32m    401\u001b[0m             \u001b[1;31m# only touch the buffer in the IO thread to avoid races\u001b[0m\u001b[1;33m\u001b[0m\u001b[1;33m\u001b[0m\u001b[1;33m\u001b[0m\u001b[0m\n\u001b[1;32m--> 402\u001b[1;33m             \u001b[0mself\u001b[0m\u001b[1;33m.\u001b[0m\u001b[0mpub_thread\u001b[0m\u001b[1;33m.\u001b[0m\u001b[0mschedule\u001b[0m\u001b[1;33m(\u001b[0m\u001b[1;32mlambda\u001b[0m \u001b[1;33m:\u001b[0m \u001b[0mself\u001b[0m\u001b[1;33m.\u001b[0m\u001b[0m_buffer\u001b[0m\u001b[1;33m.\u001b[0m\u001b[0mwrite\u001b[0m\u001b[1;33m(\u001b[0m\u001b[0mstring\u001b[0m\u001b[1;33m)\u001b[0m\u001b[1;33m)\u001b[0m\u001b[1;33m\u001b[0m\u001b[1;33m\u001b[0m\u001b[0m\n\u001b[0m\u001b[0;32m    403\u001b[0m             \u001b[1;32mif\u001b[0m \u001b[0mis_child\u001b[0m\u001b[1;33m:\u001b[0m\u001b[1;33m\u001b[0m\u001b[1;33m\u001b[0m\u001b[0m\n\u001b[0;32m    404\u001b[0m                 \u001b[1;31m# mp.Pool cannot be trusted to flush promptly (or ever),\u001b[0m\u001b[1;33m\u001b[0m\u001b[1;33m\u001b[0m\u001b[1;33m\u001b[0m\u001b[0m\n",
      "\u001b[1;32mc:\\users\\admin\\appdata\\local\\programs\\python\\python39\\lib\\site-packages\\ipykernel\\iostream.py\u001b[0m in \u001b[0;36mschedule\u001b[1;34m(self, f)\u001b[0m\n\u001b[0;32m    201\u001b[0m             \u001b[0mself\u001b[0m\u001b[1;33m.\u001b[0m\u001b[0m_events\u001b[0m\u001b[1;33m.\u001b[0m\u001b[0mappend\u001b[0m\u001b[1;33m(\u001b[0m\u001b[0mf\u001b[0m\u001b[1;33m)\u001b[0m\u001b[1;33m\u001b[0m\u001b[1;33m\u001b[0m\u001b[0m\n\u001b[0;32m    202\u001b[0m             \u001b[1;31m# wake event thread (message content is ignored)\u001b[0m\u001b[1;33m\u001b[0m\u001b[1;33m\u001b[0m\u001b[1;33m\u001b[0m\u001b[0m\n\u001b[1;32m--> 203\u001b[1;33m             \u001b[0mself\u001b[0m\u001b[1;33m.\u001b[0m\u001b[0m_event_pipe\u001b[0m\u001b[1;33m.\u001b[0m\u001b[0msend\u001b[0m\u001b[1;33m(\u001b[0m\u001b[1;34mb''\u001b[0m\u001b[1;33m)\u001b[0m\u001b[1;33m\u001b[0m\u001b[1;33m\u001b[0m\u001b[0m\n\u001b[0m\u001b[0;32m    204\u001b[0m         \u001b[1;32melse\u001b[0m\u001b[1;33m:\u001b[0m\u001b[1;33m\u001b[0m\u001b[1;33m\u001b[0m\u001b[0m\n\u001b[0;32m    205\u001b[0m             \u001b[0mf\u001b[0m\u001b[1;33m(\u001b[0m\u001b[1;33m)\u001b[0m\u001b[1;33m\u001b[0m\u001b[1;33m\u001b[0m\u001b[0m\n",
      "\u001b[1;32mc:\\users\\admin\\appdata\\local\\programs\\python\\python39\\lib\\site-packages\\zmq\\sugar\\socket.py\u001b[0m in \u001b[0;36msend\u001b[1;34m(self, data, flags, copy, track, routing_id, group)\u001b[0m\n\u001b[0;32m    503\u001b[0m                 )\n\u001b[0;32m    504\u001b[0m             \u001b[0mdata\u001b[0m\u001b[1;33m.\u001b[0m\u001b[0mgroup\u001b[0m \u001b[1;33m=\u001b[0m \u001b[0mgroup\u001b[0m\u001b[1;33m\u001b[0m\u001b[1;33m\u001b[0m\u001b[0m\n\u001b[1;32m--> 505\u001b[1;33m         \u001b[1;32mreturn\u001b[0m \u001b[0msuper\u001b[0m\u001b[1;33m(\u001b[0m\u001b[0mSocket\u001b[0m\u001b[1;33m,\u001b[0m \u001b[0mself\u001b[0m\u001b[1;33m)\u001b[0m\u001b[1;33m.\u001b[0m\u001b[0msend\u001b[0m\u001b[1;33m(\u001b[0m\u001b[0mdata\u001b[0m\u001b[1;33m,\u001b[0m \u001b[0mflags\u001b[0m\u001b[1;33m=\u001b[0m\u001b[0mflags\u001b[0m\u001b[1;33m,\u001b[0m \u001b[0mcopy\u001b[0m\u001b[1;33m=\u001b[0m\u001b[0mcopy\u001b[0m\u001b[1;33m,\u001b[0m \u001b[0mtrack\u001b[0m\u001b[1;33m=\u001b[0m\u001b[0mtrack\u001b[0m\u001b[1;33m)\u001b[0m\u001b[1;33m\u001b[0m\u001b[1;33m\u001b[0m\u001b[0m\n\u001b[0m\u001b[0;32m    506\u001b[0m \u001b[1;33m\u001b[0m\u001b[0m\n\u001b[0;32m    507\u001b[0m     \u001b[1;32mdef\u001b[0m \u001b[0msend_multipart\u001b[0m\u001b[1;33m(\u001b[0m\u001b[0mself\u001b[0m\u001b[1;33m,\u001b[0m \u001b[0mmsg_parts\u001b[0m\u001b[1;33m,\u001b[0m \u001b[0mflags\u001b[0m\u001b[1;33m=\u001b[0m\u001b[1;36m0\u001b[0m\u001b[1;33m,\u001b[0m \u001b[0mcopy\u001b[0m\u001b[1;33m=\u001b[0m\u001b[1;32mTrue\u001b[0m\u001b[1;33m,\u001b[0m \u001b[0mtrack\u001b[0m\u001b[1;33m=\u001b[0m\u001b[1;32mFalse\u001b[0m\u001b[1;33m,\u001b[0m \u001b[1;33m**\u001b[0m\u001b[0mkwargs\u001b[0m\u001b[1;33m)\u001b[0m\u001b[1;33m:\u001b[0m\u001b[1;33m\u001b[0m\u001b[1;33m\u001b[0m\u001b[0m\n",
      "\u001b[1;32mzmq\\backend\\cython\\socket.pyx\u001b[0m in \u001b[0;36mzmq.backend.cython.socket.Socket.send\u001b[1;34m()\u001b[0m\n",
      "\u001b[1;32mzmq\\backend\\cython\\socket.pyx\u001b[0m in \u001b[0;36mzmq.backend.cython.socket.Socket.send\u001b[1;34m()\u001b[0m\n",
      "\u001b[1;32mzmq\\backend\\cython\\socket.pyx\u001b[0m in \u001b[0;36mzmq.backend.cython.socket._send_copy\u001b[1;34m()\u001b[0m\n",
      "\u001b[1;32mc:\\users\\admin\\appdata\\local\\programs\\python\\python39\\lib\\site-packages\\zmq\\backend\\cython\\checkrc.pxd\u001b[0m in \u001b[0;36mzmq.backend.cython.checkrc._check_rc\u001b[1;34m()\u001b[0m\n",
      "\u001b[1;31mKeyboardInterrupt\u001b[0m: "
     ]
    }
   ],
   "source": [
    "from tqdm import tqdm\n",
    "import pandas as pd\n",
    "\n",
    "i = 0\n",
    "\n",
    "for name in dirnames:\n",
    "    print('===========')\n",
    "    print(name)\n",
    "    paths = os.listdir(os.path.join(out_dir, name))\n",
    "#     print(paths)\n",
    "    txt_paths = [path for path in paths if os.path.isdir(os.path.join(out_dir, name, path))]\n",
    "    \n",
    "    print(txt_paths)\n",
    "    \n",
    "    if len(txt_paths) == 0:\n",
    "        continue\n",
    "        \n",
    "    \n",
    "    \n",
    "    for c_path in txt_paths:\n",
    "#         print('CHILD', c_path)\n",
    "        c_a_paths = os.listdir(os.path.join(out_dir, name, c_path))\n",
    "#         print(c_a_paths)\n",
    "        for path in c_a_paths:\n",
    "#             print(path)\n",
    "            \n",
    "            with open(os.path.join(out_dir, name, c_path, path), 'r') as f:\n",
    "                article_urls = f.read().splitlines()\n",
    "                \n",
    "            for a_url in tqdm(article_urls):\n",
    "                name_csv = a_url.split('/')[-2]\n",
    "#                 print(name_csv)\n",
    "                data = pd.DataFrame(columns=['topic', 'time', 'vender', 'header', 'body', 'url'])\n",
    "                document = get_documents(a_url)\n",
    "                data = data.append(document, ignore_index=True)\n",
    "                data.to_csv(os.path.join(data_dir, name_csv + '.csv'))"
   ]
  },
  {
   "cell_type": "code",
   "execution_count": 30,
   "id": "earlier-compact",
   "metadata": {},
   "outputs": [
    {
     "data": {
      "text/plain": [
       "'高齢者向けのワクチン接種の予約枠をめぐり、愛知県西尾市が、スギ薬局などを展開するドラッグストア大手「スギホールディングス（HD）」の杉浦広一会長（70）と昭子相談役（67）夫妻に優先的に便宜を図った問題で、スギHDはおわびのコメントを発表した。主な内容は次の通り。\\n\\n【画像】「会長が接種を楽しみにしています」と言われ…ワクチン便宜\\u3000頭を下げる西尾市長ら\\n\\n\\u3000会長杉浦広一および相談役昭子へのコロナワクチンの優先的接種を西尾市様に依頼したことにつきまして、ワクチン接種をお待ちの西尾市の方々はじめ、全国の皆さまにとって不快な行為であったこと、日夜尽力されている全国の行政の方々の努力に水を差す結果となってしまったことに深くおわび申し上げます。\\n\\n\\u3000今回の案件に至った背景として、当社相談役が肺がんを患い大きな手術を経験しており、一日も早いワクチン接種をとおもんぱかった当社秘書が西尾市役所様にお問い合わせをさせていただいたことに端を発します。その使命感ゆえに何度かお問い合わせを繰り返ししたことについてご迷惑をおかけしたと考えております。\\n\\n\\u3000また会長杉浦自身は過去にアナフィラキシーショックを経験しており、ワクチン接種を希望しておりません。\\n\\n\\u3000このような事態を引き起こしたことを深く反省し、ちょうだいいたしました、多くのご意見・ご指摘を真摯（しんし）に受け止め、今後このようなことがなきよう努めてまいります。'"
      ]
     },
     "execution_count": 30,
     "metadata": {},
     "output_type": "execute_result"
    }
   ],
   "source": [
    "p = soup.find('p', attrs={'class': 'sc-kZmsYB cBtiXl yjSlinkDirectlink'})\n",
    "p.text.strip()"
   ]
  },
  {
   "cell_type": "code",
   "execution_count": 1,
   "id": "armed-consideration",
   "metadata": {},
   "outputs": [
    {
     "name": "stdout",
     "output_type": "stream",
     "text": [
      "True\n"
     ]
    }
   ],
   "source": []
  },
  {
   "cell_type": "code",
   "execution_count": null,
   "id": "acknowledged-whale",
   "metadata": {},
   "outputs": [],
   "source": []
  }
 ],
 "metadata": {
  "kernelspec": {
   "display_name": "Python 3",
   "language": "python",
   "name": "python3"
  },
  "language_info": {
   "codemirror_mode": {
    "name": "ipython",
    "version": 3
   },
   "file_extension": ".py",
   "mimetype": "text/x-python",
   "name": "python",
   "nbconvert_exporter": "python",
   "pygments_lexer": "ipython3",
   "version": "3.9.2"
  }
 },
 "nbformat": 4,
 "nbformat_minor": 5
}
